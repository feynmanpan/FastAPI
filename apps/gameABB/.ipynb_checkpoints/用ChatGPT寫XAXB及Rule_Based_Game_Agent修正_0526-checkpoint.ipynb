{
  "nbformat": 4,
  "nbformat_minor": 0,
  "metadata": {
    "colab": {
      "provenance": []
    },
    "kernelspec": {
      "name": "python3",
      "display_name": "Python 3"
    },
    "language_info": {
      "name": "python"
    }
  },
  "cells": [
    {
      "cell_type": "code",
      "source": [
        "import random"
      ],
      "metadata": {
        "id": "C8oZXZtbqPZ7"
      },
      "execution_count": 1,
      "outputs": []
    },
    {
      "cell_type": "code",
      "execution_count": 2,
      "metadata": {
        "id": "pthOSNyhqBMG"
      },
      "outputs": [],
      "source": [
        "class XAXBGame:\n",
        "    def __init__(self):\n",
        "        self.target_number = self.generate_target()\n",
        "        self.guess_history = []\n",
        "        self.feedback_history = []\n",
        "\n",
        "\n",
        "\n",
        "    def generate_target(self):\n",
        "        digits = list(range(10))  # Create a list of digits\n",
        "        random.shuffle(digits)   # Shuffle the list to ensure randomness\n",
        "        return digits[:4]        # Return the first four digits as the target number\n",
        "\n",
        "\n",
        "    def score_guess(self, guess):\n",
        "        A = 0\n",
        "        B = 0\n",
        "\n",
        "        # Calculate A\n",
        "        for i in range(4):\n",
        "            if guess[i] == self.target_number[i]:\n",
        "                A += 1\n",
        "\n",
        "        # Calculate B\n",
        "        for i in range(4):\n",
        "            if guess[i] in self.target_number and guess[i] != self.target_number[i]:\n",
        "                B += 1\n",
        "\n",
        "        return A, B\n",
        "\n",
        "\n",
        "    def is_over(self):\n",
        "        if len(self.feedback_history) > 0:  # Ensure there's at least one guess\n",
        "            last_feedback = self.feedback_history[-1]\n",
        "            return last_feedback == (4, 0)  # Check if the last feedback is 4A0B\n",
        "        else:\n",
        "            return False\n",
        "\n",
        "    def take_action(self, action):\n",
        "        # Update guess history\n",
        "        self.guess_history.append(action)\n",
        "\n",
        "        # Score the guess and update feedback history\n",
        "        feedback = self.score_guess(action)\n",
        "        self.feedback_history.append(feedback)\n",
        "\n",
        "        # Return new state and feedback\n",
        "        new_state = (self.guess_history, self.feedback_history)\n",
        "        return new_state, feedback\n",
        "    \n",
        "    def reset(self):\n",
        "        self.answer = self.generate_answer()\n",
        "        self.guesses = []\n",
        "        self.game_over = False\n",
        "\n"
      ]
    },
    {
      "cell_type": "markdown",
      "source": [
        "## 遊戲規則測試"
      ],
      "metadata": {
        "id": "kwTRKsl4novK"
      }
    },
    {
      "cell_type": "code",
      "source": [
        "# Create a new game instance\n",
        "game = XAXBGame()\n",
        "\n",
        "# Make some guesses\n",
        "guesses = [[1, 2, 3, 4], [4, 3, 2, 1], [0, 5, 6, 7], [8, 9, 0, 1]]\n",
        "\n",
        "for guess in guesses:\n",
        "    new_state, feedback = game.take_action(guess)\n",
        "    print(f\"Guess: {guess}, Feedback: {feedback}\")\n",
        "\n",
        "    if game.is_over():\n",
        "        print(\"Game Over!\")\n",
        "        break\n"
      ],
      "metadata": {
        "colab": {
          "base_uri": "https://localhost:8080/"
        },
        "id": "zytn7QBGqc9i",
        "outputId": "3484bca6-6779-4f43-e870-8b7ff923b863"
      },
      "execution_count": 3,
      "outputs": [
        {
          "output_type": "stream",
          "name": "stdout",
          "text": [
            "Guess: [1, 2, 3, 4], Feedback: (0, 1)\n",
            "Guess: [4, 3, 2, 1], Feedback: (1, 0)\n",
            "Guess: [0, 5, 6, 7], Feedback: (0, 2)\n",
            "Guess: [8, 9, 0, 1], Feedback: (1, 1)\n"
          ]
        }
      ]
    },
    {
      "cell_type": "markdown",
      "source": [
        "## 電腦出題, 人來猜"
      ],
      "metadata": {
        "id": "mXGkY8PyntWh"
      }
    },
    {
      "cell_type": "code",
      "source": [
        "# Create a new game instance\n",
        "game = XAXBGame()\n",
        "\n",
        "while not game.is_over():\n",
        "    # Ask the user for a guess\n",
        "    guess_str = input(\"Enter your guess (4 unique digits): \")\n",
        "\n",
        "    # Convert the guess to the correct format\n",
        "    guess = [int(digit) for digit in guess_str]\n",
        "\n",
        "    # Take the action and print the feedback\n",
        "    new_state, feedback = game.take_action(guess)\n",
        "    print(f\"Your guess: {guess}, Feedback: {feedback}\")\n",
        "\n",
        "print(\"Game Over!\")\n"
      ],
      "metadata": {
        "colab": {
          "base_uri": "https://localhost:8080/"
        },
        "id": "kNmAnBPNrAkd",
        "outputId": "7f23e324-d9d0-48cc-8690-a1af881e0452"
      },
      "execution_count": 5,
      "outputs": [
        {
          "output_type": "stream",
          "name": "stdout",
          "text": [
            "Enter your guess (4 unique digits): 1234\n",
            "Your guess: [1, 2, 3, 4], Feedback: (1, 0)\n",
            "Enter your guess (4 unique digits): 5678\n",
            "Your guess: [5, 6, 7, 8], Feedback: (0, 2)\n",
            "Enter your guess (4 unique digits): 0123\n",
            "Your guess: [0, 1, 2, 3], Feedback: (0, 2)\n",
            "Enter your guess (4 unique digits): 1076\n",
            "Your guess: [1, 0, 7, 6], Feedback: (2, 1)\n",
            "Enter your guess (4 unique digits): 1065\n",
            "Your guess: [1, 0, 6, 5], Feedback: (4, 0)\n",
            "Game Over!\n"
          ]
        }
      ]
    },
    {
      "cell_type": "markdown",
      "source": [
        "## 加入Rule-based Game Agent"
      ],
      "metadata": {
        "id": "T4E_RB7_oYiY"
      }
    },
    {
      "cell_type": "code",
      "source": [
        "from itertools import permutations\n",
        "from itertools import product"
      ],
      "metadata": {
        "id": "zklyvc4xB9f-"
      },
      "execution_count": 7,
      "outputs": []
    },
    {
      "cell_type": "code",
      "source": [
        "class XAXBGame:\n",
        "    def __init__(self):\n",
        "        self.answer = self.generate_answer()\n",
        "        self.guesses = []\n",
        "        self.game_over = False\n",
        "\n",
        "    def generate_answer(self):\n",
        "        return random.sample(range(10), 4)\n",
        "\n",
        "    def check_guess(self, guess):\n",
        "        a_count = sum([i == j for i, j in zip(self.answer, guess)])\n",
        "        b_count = sum([i in self.answer for i in guess]) - a_count\n",
        "        self.guesses.append((guess, a_count, b_count))\n",
        "        if a_count == 4:\n",
        "            self.game_over = True\n",
        "        return a_count, b_count\n",
        "\n",
        "    def is_over(self):\n",
        "        return self.game_over\n",
        "\n",
        "    def reset(self):\n",
        "        self.answer = self.generate_answer()\n",
        "        self.guesses = []\n",
        "        self.game_over = False"
      ],
      "metadata": {
        "id": "JbWwpMRoYHlf"
      },
      "execution_count": 9,
      "outputs": []
    },
    {
      "cell_type": "code",
      "source": [
        "class RuleBasedXAXBAgent:\n",
        "    def __init__(self):\n",
        "        self.reset()\n",
        "\n",
        "    def reset(self):\n",
        "        self.possible_answers = list(permutations(range(10), 4))\n",
        "        random.shuffle(self.possible_answers)\n",
        "\n",
        "    def make_guess(self):\n",
        "        return self.possible_answers[0]\n",
        "\n",
        "    def update_possible_answers(self, feedback):\n",
        "        guess = self.possible_answers[0]\n",
        "        self.possible_answers = [answer for answer in self.possible_answers if self.check_guess(guess, answer) == feedback]\n",
        "\n",
        "    def check_guess(self, guess, answer):\n",
        "        a_count = sum([i == j for i, j in zip(guess, answer)])\n",
        "        b_count = sum([i in answer for i in guess]) - a_count\n",
        "        return a_count, b_count\n"
      ],
      "metadata": {
        "id": "b1RWxuF-Ygg1"
      },
      "execution_count": 13,
      "outputs": []
    },
    {
      "cell_type": "code",
      "source": [
        "# 創建遊戲和代理人實例\n",
        "game = XAXBGame()\n",
        "agent = RuleBasedXAXBAgent()\n",
        "\n",
        "# 代理人不斷進行猜測，直到遊戲結束\n",
        "while not game.is_over():\n",
        "    guess = agent.make_guess()\n",
        "    feedback = game.check_guess(guess)\n",
        "    agent.update_possible_answers(feedback)\n",
        "\n",
        "# 當遊戲結束後，顯示總共的猜測次數\n",
        "print(f\"Game over, the agent guessed the answer in {len(game.guesses)} guesses.\")\n",
        "\n",
        "# 重置遊戲和代理人\n",
        "game.reset()\n",
        "agent.reset()"
      ],
      "metadata": {
        "colab": {
          "base_uri": "https://localhost:8080/"
        },
        "id": "LnmFpg1pYL6V",
        "outputId": "071942c8-f5ff-4849-83f9-c921aa214233"
      },
      "execution_count": 16,
      "outputs": [
        {
          "output_type": "stream",
          "name": "stdout",
          "text": [
            "Game over, the agent guessed the answer in 6 guesses.\n"
          ]
        }
      ]
    },
    {
      "cell_type": "code",
      "source": [
        "# 創建遊戲和代理人實例\n",
        "game = XAXBGame()\n",
        "agent = RuleBasedXAXBAgent()\n",
        "\n",
        "# 代理人不斷進行猜測，直到遊戲結束\n",
        "while not game.is_over():\n",
        "    guess = agent.make_guess()\n",
        "    feedback = game.check_guess(guess)\n",
        "    agent.update_possible_answers(feedback)\n",
        "    print(f\"Guess: {guess}, Feedback: {feedback}\")\n",
        "\n",
        "# 當遊戲結束後，顯示總共的猜測次數\n",
        "print(f\"Game over, the agent guessed the answer in {len(game.guesses)} guesses.\")\n",
        "\n",
        "# 重置遊戲和代理人\n",
        "game.reset()\n",
        "agent.reset()\n"
      ],
      "metadata": {
        "colab": {
          "base_uri": "https://localhost:8080/"
        },
        "id": "hX8OTatGYw88",
        "outputId": "f4602d0c-ff73-4707-b273-94aeaaff10c9"
      },
      "execution_count": 21,
      "outputs": [
        {
          "output_type": "stream",
          "name": "stdout",
          "text": [
            "Guess: (2, 0, 8, 6), Feedback: (0, 3)\n",
            "Guess: (6, 8, 3, 2), Feedback: (0, 3)\n",
            "Guess: (3, 2, 0, 8), Feedback: (0, 2)\n",
            "Guess: (8, 6, 2, 7), Feedback: (3, 0)\n",
            "Guess: (8, 6, 2, 4), Feedback: (3, 0)\n",
            "Guess: (8, 6, 2, 9), Feedback: (3, 0)\n",
            "Guess: (8, 6, 2, 5), Feedback: (3, 0)\n",
            "Guess: (8, 6, 2, 1), Feedback: (4, 0)\n",
            "Game over, the agent guessed the answer in 8 guesses.\n"
          ]
        }
      ]
    },
    {
      "cell_type": "markdown",
      "source": [
        "## 電腦出題, Game Agent來猜"
      ],
      "metadata": {
        "id": "rxopn1vEpOAe"
      }
    },
    {
      "cell_type": "code",
      "source": [
        "# 創建遊戲和代理人實例\n",
        "game = XAXBGame()\n",
        "agent = RuleBasedXAXBAgent()\n",
        "\n",
        "# 代理人不斷進行猜測，直到遊戲結束\n",
        "while not game.is_over():\n",
        "    guess = agent.make_guess()\n",
        "    feedback = game.check_guess(guess)\n",
        "    agent.update_possible_answers(feedback)\n",
        "    print(f\"Guess: {guess}, Feedback: {feedback[0]}A{feedback[1]}B\")\n",
        "\n",
        "# 當遊戲結束後，顯示總共的猜測次數\n",
        "print(f\"Game over, the agent guessed the answer in {len(game.guesses)} guesses.\")\n",
        "\n",
        "# 重置遊戲和代理人\n",
        "game.reset()\n",
        "agent.reset()\n"
      ],
      "metadata": {
        "colab": {
          "base_uri": "https://localhost:8080/"
        },
        "id": "ufQBSS_iZWc1",
        "outputId": "f875a587-aa7e-4f38-c1b4-fa9d946da8f4"
      },
      "execution_count": 22,
      "outputs": [
        {
          "output_type": "stream",
          "name": "stdout",
          "text": [
            "Guess: (9, 8, 7, 3), Feedback: 0A2B\n",
            "Guess: (7, 4, 2, 8), Feedback: 0A1B\n",
            "Guess: (2, 5, 3, 9), Feedback: 0A1B\n",
            "Guess: (8, 0, 9, 1), Feedback: 0A2B\n",
            "Guess: (6, 9, 0, 7), Feedback: 2A0B\n",
            "Guess: (3, 1, 0, 7), Feedback: 2A2B\n",
            "Guess: (1, 3, 0, 7), Feedback: 4A0B\n",
            "Game over, the agent guessed the answer in 7 guesses.\n"
          ]
        }
      ]
    },
    {
      "cell_type": "code",
      "source": [
        "class RuleBasedXAXBAgent:\n",
        "    def __init__(self):\n",
        "        self.reset()\n",
        "\n",
        "    def reset(self):\n",
        "        self.possible_answers = [''.join(map(str, a)) for a in permutations('123456789', 4)]\n",
        "        random.shuffle(self.possible_answers)\n",
        "\n",
        "    def make_guess(self):\n",
        "        return self.possible_answers[0]\n",
        "\n",
        "    def update_possible_answers(self, guess, feedback):\n",
        "        new_possible_answers = []\n",
        "        for answer in self.possible_answers:\n",
        "            if self.get_feedback(guess, answer) == feedback:\n",
        "                new_possible_answers.append(answer)\n",
        "        self.possible_answers = new_possible_answers\n",
        "\n",
        "    def get_feedback(self, guess, answer):\n",
        "        A = sum(x==y for x,y in zip(guess, answer))\n",
        "        B = sum((g in answer) for g in guess) - A\n",
        "        return A, B\n"
      ],
      "metadata": {
        "id": "-nK8xupYbHP1"
      },
      "execution_count": 23,
      "outputs": []
    },
    {
      "cell_type": "code",
      "source": [
        "class XAXBGame:\n",
        "    def __init__(self, answer):\n",
        "        self.answer = list(map(int, str(answer)))\n",
        "        self.guesses = []\n",
        "    \n",
        "    def check_guess(self, guess):\n",
        "        a = sum([i == j for i, j in zip(self.answer, guess)])\n",
        "        b = len(set(self.answer) & set(guess)) - a\n",
        "        self.guesses.append(guess)\n",
        "        return a, b\n",
        "\n",
        "    def is_over(self):\n",
        "        return len(self.guesses) > 0 and self.guesses[-1] == self.answer\n",
        "\n",
        "    def reset(self):\n",
        "        self.guesses = []\n"
      ],
      "metadata": {
        "id": "zIsfW7EeceoV"
      },
      "execution_count": 24,
      "outputs": []
    },
    {
      "cell_type": "markdown",
      "source": [
        "## 人工出題, Game Agent 來猜"
      ],
      "metadata": {
        "id": "5Q_Mnm0YpUJo"
      }
    },
    {
      "cell_type": "code",
      "source": [
        "user_input = input(\"Enter a four-digit number: \")\n",
        "game = XAXBGame(user_input)\n",
        "agent = RuleBasedXAXBAgent()\n",
        "\n",
        "while not game.is_over():\n",
        "    guess = agent.make_guess()\n",
        "    feedback = game.check_guess(guess)\n",
        "    print(f\"Guess: {guess}, Feedback: {feedback[0]}A{feedback[1]}B\")\n",
        "    print(f\"Game answer: {game.answer}, Current guess: {game.guesses[-1]}\")\n",
        "    agent.update_possible_answers(guess, feedback)\n"
      ],
      "metadata": {
        "colab": {
          "base_uri": "https://localhost:8080/"
        },
        "id": "5tzhF-y2crDV",
        "outputId": "7a7ae952-bf3c-4ecc-a1f4-ba63c13433e9"
      },
      "execution_count": 30,
      "outputs": [
        {
          "output_type": "stream",
          "name": "stdout",
          "text": [
            "Enter a four-digit number: 7421\n",
            "Guess: [3, 1, 5, 2], Feedback: 0A2B\n",
            "Game answer: [7, 4, 2, 1], Current guess: [3, 1, 5, 2]\n",
            "Guess: [0, 2, 1, 4], Feedback: 0A3B\n",
            "Game answer: [7, 4, 2, 1], Current guess: [0, 2, 1, 4]\n",
            "Guess: [1, 0, 2, 6], Feedback: 1A1B\n",
            "Game answer: [7, 4, 2, 1], Current guess: [1, 0, 2, 6]\n",
            "Guess: [1, 3, 4, 0], Feedback: 0A2B\n",
            "Game answer: [7, 4, 2, 1], Current guess: [1, 3, 4, 0]\n",
            "Guess: [4, 7, 2, 1], Feedback: 2A2B\n",
            "Game answer: [7, 4, 2, 1], Current guess: [4, 7, 2, 1]\n",
            "Guess: [7, 4, 2, 1], Feedback: 4A0B\n",
            "Game answer: [7, 4, 2, 1], Current guess: [7, 4, 2, 1]\n"
          ]
        }
      ]
    },
    {
      "cell_type": "code",
      "source": [
        "class XAXBGame:\n",
        "    def __init__(self, answer=None):\n",
        "        self.answer = [int(digit) for digit in answer]\n",
        "        self.guesses = []\n",
        "        self.feedback = []\n",
        "\n",
        "    def check_guess(self, guess):\n",
        "        self.guesses.append(guess)\n",
        "        guess = list(guess)\n",
        "        A = sum([self.answer[i] == int(guess[i]) for i in range(4)])\n",
        "        B = sum([int(digit) in self.answer for digit in guess]) - A\n",
        "        self.feedback.append((A, B))\n",
        "        return A, B\n",
        "\n",
        "    def is_over(self):\n",
        "        return self.feedback and self.feedback[-1][0] == 4\n",
        "\n",
        "    def reset(self):\n",
        "        self.answer = [int(digit) for digit in str(randint(1000, 9999))]\n",
        "        self.guesses = []\n",
        "        self.feedback = []\n"
      ],
      "metadata": {
        "id": "RXa79j_Xdcal"
      },
      "execution_count": 35,
      "outputs": []
    },
    {
      "cell_type": "code",
      "source": [
        "class RuleBasedXAXBAgent:\n",
        "    def __init__(self):\n",
        "        self.possible_answers = [''.join(p) for p in permutations('0123456789', 4)]\n",
        "        self.num_guesses = 0\n",
        "\n",
        "    def make_guess(self):\n",
        "        self.num_guesses += 1\n",
        "        return self.possible_answers[0]\n",
        "\n",
        "    def update_possible_answers(self, guess, feedback):\n",
        "        new_possible_answers = []\n",
        "        for answer in self.possible_answers:\n",
        "            if self.get_feedback(answer, guess) == feedback:\n",
        "                new_possible_answers.append(answer)\n",
        "        self.possible_answers = new_possible_answers\n",
        "\n",
        "    def get_feedback(self, answer, guess):\n",
        "        A = sum([answer[i] == guess[i] for i in range(4)])\n",
        "        B = sum([digit in answer for digit in guess]) - A\n",
        "        return A, B\n"
      ],
      "metadata": {
        "id": "klE58Sxnd8Lw"
      },
      "execution_count": 31,
      "outputs": []
    },
    {
      "cell_type": "code",
      "source": [
        "class RuleBasedXAXBAgent:\n",
        "    def __init__(self):\n",
        "        self.possible_answers = [''.join(p) for p in permutations('0123456789', 4)]\n",
        "        self.num_guesses = 0\n",
        "\n",
        "    def make_guess(self):\n",
        "        self.num_guesses += 1\n",
        "        if self.num_guesses == 1:\n",
        "            guess = random.choice(self.possible_answers)\n",
        "        else:\n",
        "            guess = self.possible_answers[0]\n",
        "        return list(map(int, guess))\n",
        "\n",
        "    def update_possible_answers(self, guess, feedback):\n",
        "        new_possible_answers = []\n",
        "        for answer in self.possible_answers:\n",
        "            if self.get_feedback(answer, list(map(str, guess))) == feedback:\n",
        "                new_possible_answers.append(answer)\n",
        "        self.possible_answers = new_possible_answers\n",
        "\n",
        "    def get_feedback(self, answer, guess):\n",
        "        A = sum([answer[i] == guess[i] for i in range(4)])\n",
        "        B = sum([digit in answer for digit in guess]) - A\n",
        "        return A, B\n"
      ],
      "metadata": {
        "id": "LyoI4Av3gi4H"
      },
      "execution_count": 40,
      "outputs": []
    },
    {
      "cell_type": "code",
      "source": [
        "user_input = input(\"Enter a four-digit number: \")\n",
        "game = XAXBGame(user_input)\n",
        "agent = RuleBasedXAXBAgent()\n",
        "\n",
        "while not game.is_over():\n",
        "    guess = agent.make_guess()\n",
        "    feedback = game.check_guess(guess)\n",
        "    print(f\"Guess #{agent.num_guesses}: {guess}, Feedback: {feedback[0]}A{feedback[1]}B\")\n",
        "    print(f\"Game answer: {game.answer}, Current guess: {game.guesses[-1]}\")\n",
        "    agent.update_possible_answers(guess, feedback)\n"
      ],
      "metadata": {
        "colab": {
          "base_uri": "https://localhost:8080/"
        },
        "id": "jQVkOiRoh7uo",
        "outputId": "e3c8b6f9-fa3e-47e4-8c63-18181929c386"
      },
      "execution_count": 43,
      "outputs": [
        {
          "output_type": "stream",
          "name": "stdout",
          "text": [
            "Enter a four-digit number: 6543\n",
            "Guess #1: [9, 8, 2, 0], Feedback: 0A0B\n",
            "Game answer: [6, 5, 4, 3], Current guess: [9, 8, 2, 0]\n",
            "Guess #2: [1, 3, 4, 5], Feedback: 1A2B\n",
            "Game answer: [6, 5, 4, 3], Current guess: [1, 3, 4, 5]\n",
            "Guess #3: [1, 4, 3, 6], Feedback: 0A3B\n",
            "Game answer: [6, 5, 4, 3], Current guess: [1, 4, 3, 6]\n",
            "Guess #4: [3, 1, 4, 7], Feedback: 1A1B\n",
            "Game answer: [6, 5, 4, 3], Current guess: [3, 1, 4, 7]\n",
            "Guess #5: [3, 6, 1, 5], Feedback: 0A3B\n",
            "Game answer: [6, 5, 4, 3], Current guess: [3, 6, 1, 5]\n",
            "Guess #6: [6, 5, 4, 1], Feedback: 3A0B\n",
            "Game answer: [6, 5, 4, 3], Current guess: [6, 5, 4, 1]\n",
            "Guess #7: [6, 5, 4, 3], Feedback: 4A0B\n",
            "Game answer: [6, 5, 4, 3], Current guess: [6, 5, 4, 3]\n"
          ]
        }
      ]
    },
    {
      "cell_type": "markdown",
      "source": [
        "## 輸入4數字不重複"
      ],
      "metadata": {
        "id": "oW-jkHUUnWil"
      }
    },
    {
      "cell_type": "code",
      "source": [
        "user_input = input(\"Enter a four-digit number: \")\n",
        "\n",
        "# 確保輸入的數字都不同\n",
        "while len(set(user_input)) != 4:\n",
        "    print(\"All digits must be unique. Please try again.\")\n",
        "    user_input = input(\"Enter a four-digit number: \")\n",
        "\n",
        "game = XAXBGame(user_input)\n",
        "agent = RuleBasedXAXBAgent()\n",
        "\n",
        "while not game.is_over():\n",
        "    guess = agent.make_guess()\n",
        "    feedback = game.check_guess(guess)\n",
        "    print(f\"Guess #{agent.num_guesses}: {guess}, Feedback: {feedback[0]}A{feedback[1]}B\")\n",
        "    print(f\"Game answer: {game.answer}, Current guess: {game.guesses[-1]}\")\n",
        "    agent.update_possible_answers(guess, feedback)\n"
      ],
      "metadata": {
        "colab": {
          "base_uri": "https://localhost:8080/"
        },
        "id": "9sPs7hfEi_2I",
        "outputId": "fc529427-659e-4cf4-96e3-9a4a49618c9b"
      },
      "execution_count": 44,
      "outputs": [
        {
          "output_type": "stream",
          "name": "stdout",
          "text": [
            "Enter a four-digit number: 0012\n",
            "All digits must be unique. Please try again.\n",
            "Enter a four-digit number: 6543\n",
            "Guess #1: [0, 6, 3, 8], Feedback: 0A2B\n",
            "Game answer: [6, 5, 4, 3], Current guess: [0, 6, 3, 8]\n",
            "Guess #2: [1, 0, 2, 3], Feedback: 1A0B\n",
            "Game answer: [6, 5, 4, 3], Current guess: [1, 0, 2, 3]\n",
            "Guess #3: [1, 4, 8, 6], Feedback: 0A2B\n",
            "Game answer: [6, 5, 4, 3], Current guess: [1, 4, 8, 6]\n",
            "Guess #4: [4, 0, 6, 5], Feedback: 0A3B\n",
            "Game answer: [6, 5, 4, 3], Current guess: [4, 0, 6, 5]\n",
            "Guess #5: [6, 5, 4, 3], Feedback: 4A0B\n",
            "Game answer: [6, 5, 4, 3], Current guess: [6, 5, 4, 3]\n"
          ]
        }
      ]
    },
    {
      "cell_type": "code",
      "source": [
        "user_input = input(\"Enter a four-digit number: \")\n",
        "\n",
        "# 確保輸入的數字都不同\n",
        "while len(set(user_input)) != 4:\n",
        "    print(\"All digits must be unique. Please try again.\")\n",
        "    user_input = input(\"Enter a four-digit number: \")\n",
        "\n",
        "game = XAXBGame(user_input)\n",
        "agent = RuleBasedXAXBAgent()\n",
        "\n",
        "while not game.is_over():\n",
        "    guess = agent.make_guess()\n",
        "    feedback = game.check_guess(guess)\n",
        "    print(f\"Guess #{agent.num_guesses}: {guess}, Feedback: {feedback[0]}A{feedback[1]}B\")\n",
        "    agent.update_possible_answers(guess, feedback)\n"
      ],
      "metadata": {
        "colab": {
          "base_uri": "https://localhost:8080/"
        },
        "id": "cU7zySbMj2cf",
        "outputId": "a06994cc-187d-46ce-ef44-abd30e7c5278"
      },
      "execution_count": 45,
      "outputs": [
        {
          "output_type": "stream",
          "name": "stdout",
          "text": [
            "Enter a four-digit number: 8768\n",
            "All digits must be unique. Please try again.\n",
            "Enter a four-digit number: 8764\n",
            "Guess #1: [5, 0, 7, 4], Feedback: 1A1B\n",
            "Guess #2: [0, 1, 2, 4], Feedback: 1A0B\n",
            "Guess #3: [0, 3, 7, 6], Feedback: 0A2B\n",
            "Guess #4: [3, 5, 6, 4], Feedback: 2A0B\n",
            "Guess #5: [3, 7, 8, 4], Feedback: 2A1B\n",
            "Guess #6: [8, 7, 6, 4], Feedback: 4A0B\n"
          ]
        }
      ]
    },
    {
      "cell_type": "markdown",
      "source": [
        "## Game Agent猜數字, 人工來回饋"
      ],
      "metadata": {
        "id": "W2nQPYtfnT6C"
      }
    },
    {
      "cell_type": "code",
      "source": [
        "from itertools import permutations\n",
        "from random import randint\n"
      ],
      "metadata": {
        "id": "WkTDrev8mPT5"
      },
      "execution_count": 47,
      "outputs": []
    },
    {
      "cell_type": "code",
      "source": [
        "class ManualFeedbackXAXBGame:\n",
        "    def __init__(self, answer=None):\n",
        "        self.answer = [int(digit) for digit in answer] if answer else [int(digit) for digit in str(randint(1000, 9999))]\n",
        "        self.guesses = []\n",
        "\n",
        "    def get_guess(self, guess):\n",
        "        self.guesses.append(guess)\n",
        "        return guess\n",
        "\n",
        "    def is_over(self, feedback):\n",
        "        return feedback and feedback[0] == 4\n",
        "\n",
        "\n",
        "# 定義遊戲和代理人\n",
        "game = ManualFeedbackXAXBGame()\n",
        "agent = RuleBasedXAXBAgent()\n",
        "\n",
        "while True:\n",
        "    # 代理人進行猜測\n",
        "    guess = agent.make_guess()\n",
        "    print(f\"Guess: {guess}\")\n",
        "\n",
        "    # 從使用者獲取反饋\n",
        "    feedback_input = input(\"Enter feedback in the format 'xAyB': \")\n",
        "    feedback = tuple(map(int, feedback_input.replace('A', ' ').replace('B', ' ').split()))\n",
        "\n",
        "    # 檢查遊戲是否結束\n",
        "    if game.is_over(feedback):\n",
        "        print(f\"Game is over! The answer is: {guess}\")\n",
        "        break\n",
        "\n",
        "    # 更新可能的答案\n",
        "    agent.update_possible_answers(guess, feedback)\n"
      ],
      "metadata": {
        "colab": {
          "base_uri": "https://localhost:8080/"
        },
        "id": "tlFxSN_xmFCh",
        "outputId": "d3f64256-60e1-46ce-8281-05a2ed9615c8"
      },
      "execution_count": 49,
      "outputs": [
        {
          "output_type": "stream",
          "name": "stdout",
          "text": [
            "Guess: [1, 5, 9, 7]\n",
            "Enter feedback in the format 'xAyB': 0A0B\n",
            "Guess: [0, 2, 3, 4]\n",
            "Enter feedback in the format 'xAyB': 0A2B\n",
            "Guess: [2, 0, 6, 8]\n",
            "Enter feedback in the format 'xAyB': 3A0B\n",
            "Guess: [2, 3, 6, 8]\n",
            "Enter feedback in the format 'xAyB': 3A0B\n",
            "Guess: [2, 4, 6, 8]\n",
            "Enter feedback in the format 'xAyB': 4A0B\n",
            "Game is over! The answer is: [2, 4, 6, 8]\n"
          ]
        }
      ]
    }
  ]
}