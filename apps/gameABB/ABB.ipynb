{
 "cells": [
  {
   "cell_type": "code",
   "execution_count": 26,
   "id": "micro-solution",
   "metadata": {},
   "outputs": [
    {
     "data": {
      "text/plain": [
       "['/home/pan/django_projects/fast_api_392',\n",
       " '/home/pan/django_projects/fast_api_392/apps/gameABB',\n",
       " '/home/pan/anaconda3/envs/fast_env/lib/python39.zip',\n",
       " '/home/pan/anaconda3/envs/fast_env/lib/python3.9',\n",
       " '/home/pan/anaconda3/envs/fast_env/lib/python3.9/lib-dynload',\n",
       " '',\n",
       " '/home/pan/anaconda3/envs/fast_env/lib/python3.9/site-packages',\n",
       " '/home/pan/anaconda3/envs/fast_env/lib/python3.9/site-packages/IPython/extensions',\n",
       " '/home/pan/.ipython']"
      ]
     },
     "execution_count": 26,
     "metadata": {},
     "output_type": "execute_result"
    }
   ],
   "source": [
    "import sys\n",
    "import os\n",
    "# sys.path.append(top) 把392頂層目錄加到最前面 '/home/pan/django_projects/fast_api_392'\n",
    "top = os.path.dirname(os.path.dirname(os.getcwd()))\n",
    "sys.path.insert(0, top)\n",
    "sys.path"
   ]
  },
  {
   "cell_type": "code",
   "execution_count": 181,
   "id": "eight-nickname",
   "metadata": {},
   "outputs": [],
   "source": [
    "from random import   choice"
   ]
  },
  {
   "cell_type": "code",
   "execution_count": 191,
   "id": "advanced-provider",
   "metadata": {},
   "outputs": [
    {
     "data": {
      "text/plain": [
       "{'0', '1', '2', '3', '4', '5', '6', '7', '8', '9'}"
      ]
     },
     "execution_count": 191,
     "metadata": {},
     "output_type": "execute_result"
    }
   ],
   "source": [
    "set('1234567890')"
   ]
  },
  {
   "cell_type": "code",
   "execution_count": 183,
   "id": "assured-straight",
   "metadata": {},
   "outputs": [
    {
     "data": {
      "text/plain": [
       "[1, 2]"
      ]
     },
     "execution_count": 183,
     "metadata": {},
     "output_type": "execute_result"
    }
   ],
   "source": [
    "a"
   ]
  },
  {
   "cell_type": "code",
   "execution_count": 27,
   "id": "together-theology",
   "metadata": {},
   "outputs": [],
   "source": [
    "from fastapi import Request\n",
    "from fastapi.responses import HTMLResponse, ORJSONResponse, Response, PlainTextResponse\n",
    "from apps.gameABB.config import jinja_templates, const"
   ]
  },
  {
   "cell_type": "code",
   "execution_count": null,
   "id": "civilian-operation",
   "metadata": {},
   "outputs": [],
   "source": [
    "from apps.gameABB.ABB import PLAYER\n",
    "context = {\n",
    "    'request': Request(scope={'type': 'http'}),\n",
    "    'I': await PLAYER.creat(),\n",
    "}\n",
    "jinja_templates.TemplateResponse('show.html', context)"
   ]
  },
  {
   "cell_type": "code",
   "execution_count": 28,
   "id": "front-economy",
   "metadata": {},
   "outputs": [
    {
     "data": {
      "text/plain": [
       "'{\"at\": \"@\", \"histry_begin\": \"<span class=\\\\\\\\\\\\\"guess\\\\\\\\\\\\\" style=\\\\\\\\\\\\\"display: block;\\\\\\\\\\\\\">begin</span>\", \"DNS\": \"wss://wtb.ddns.net:6001\", \"bingo\": \"4A0B\", \"durationMax_winner\": 10, \"main\": \"main\", \"newgame\": \"newgame\", \"joingame\": \"joingame\", \"p1waiting\": \"p1waiting\", \"p12vs\": \"p12vs\", \"infoarea\": \"infoarea\", \"card\": \"card\", \"leftsec\": \"leftsec\", \"pid\": \"pid\", \"pname\": \"pname\", \"ans\": \"ans\", \"gid\": \"gid\", \"newjoin\": \"newjoin\", \"checkans\": \"checkans\", \"wsself\": \"wsself\", \"wsgame\": \"wsgame\", \"default\": \"default\", \"winner\": \"winner\"}'"
      ]
     },
     "execution_count": 28,
     "metadata": {},
     "output_type": "execute_result"
    }
   ],
   "source": [
    "const.jsonstr"
   ]
  },
  {
   "cell_type": "code",
   "execution_count": null,
   "id": "conceptual-handy",
   "metadata": {},
   "outputs": [],
   "source": [
    "a.insert(0, 333)\n",
    "a"
   ]
  },
  {
   "cell_type": "code",
   "execution_count": null,
   "id": "accessory-administrator",
   "metadata": {},
   "outputs": [],
   "source": [
    "g.duration"
   ]
  },
  {
   "cell_type": "code",
   "execution_count": null,
   "id": "refined-genius",
   "metadata": {},
   "outputs": [],
   "source": [
    "class A:\n",
    "    a = 2\n",
    "\n",
    "    def __init__(self, a=None):\n",
    "        self.a = a or self.a"
   ]
  },
  {
   "cell_type": "code",
   "execution_count": null,
   "id": "textile-aircraft",
   "metadata": {},
   "outputs": [],
   "source": [
    "if 1:\n",
    "    pass\n",
    "elif 2:\n",
    "    pass\n",
    "else 3:\n",
    "    pass"
   ]
  },
  {
   "cell_type": "code",
   "execution_count": null,
   "id": "dynamic-witch",
   "metadata": {},
   "outputs": [],
   "source": [
    "if {}:\n",
    "    print(2)"
   ]
  },
  {
   "cell_type": "code",
   "execution_count": null,
   "id": "adult-killing",
   "metadata": {},
   "outputs": [],
   "source": [
    "from fastapi import Request, WebSocket, Cookie\n",
    "from fastapi.responses import HTMLResponse, ORJSONResponse, Response, PlainTextResponse"
   ]
  },
  {
   "cell_type": "code",
   "execution_count": null,
   "id": "academic-chance",
   "metadata": {},
   "outputs": [],
   "source": [
    "res = HTMLResponse('<p>1</p>')"
   ]
  },
  {
   "cell_type": "code",
   "execution_count": null,
   "id": "acting-saver",
   "metadata": {},
   "outputs": [],
   "source": [
    "res.body.decode('utf8')"
   ]
  },
  {
   "cell_type": "code",
   "execution_count": null,
   "id": "connected-patio",
   "metadata": {},
   "outputs": [],
   "source": [
    "from pyquery import PyQuery as pq"
   ]
  },
  {
   "cell_type": "code",
   "execution_count": null,
   "id": "racial-bennett",
   "metadata": {},
   "outputs": [],
   "source": [
    "domstr = '''\n",
    "<html>\n",
    "<div class=\"center\" id=\"joingame\">\n",
    "            \n",
    "            <div class=\"card left\" id=\"\">\n",
    "                <span>對手: {{g.p1.pname}}</span>\n",
    "                <br>\n",
    "                <span>你的暱稱: <input class='pname' type=\"text\" placeholder=\"1-10位英數字元\" maxlength=\"10\" size=\"10\"\n",
    "                        autocomplete=\"off\"></span>\n",
    "                <br>\n",
    "                <span>你的答案: <input class='ans' type=\"text\" placeholder=\"4位相異數字\" maxlength=\"4\" size=\"10\"\n",
    "                        autocomplete=\"off\"></span>\n",
    "                <br>\n",
    "                <p class=\"center mp\"><input type=\"submit\" value=\"加入對戰\" class=\"btn\"></p>\n",
    "            </div>\n",
    "            \n",
    "        </div>\n",
    "        </html>\n",
    "'''"
   ]
  },
  {
   "cell_type": "code",
   "execution_count": null,
   "id": "informed-scanning",
   "metadata": {},
   "outputs": [],
   "source": [
    "dom = pq(domstr)"
   ]
  },
  {
   "cell_type": "code",
   "execution_count": null,
   "id": "corrected-texture",
   "metadata": {},
   "outputs": [],
   "source": [
    "s = dom.find('#joingame').html()"
   ]
  },
  {
   "cell_type": "code",
   "execution_count": null,
   "id": "engaging-occurrence",
   "metadata": {},
   "outputs": [],
   "source": [
    "type(s)"
   ]
  },
  {
   "cell_type": "code",
   "execution_count": null,
   "id": "uniform-publicity",
   "metadata": {},
   "outputs": [],
   "source": [
    "'1@p'.split('@')"
   ]
  },
  {
   "cell_type": "code",
   "execution_count": null,
   "id": "wired-degree",
   "metadata": {},
   "outputs": [],
   "source": [
    "from enum import Enum"
   ]
  },
  {
   "cell_type": "code",
   "execution_count": null,
   "id": "willing-sweet",
   "metadata": {},
   "outputs": [],
   "source": [
    "class MAIN_AREA(Enum):\n",
    "    '''模板main的互斥區塊'''\n",
    "    main = 0\n",
    "    newgame = 0\n",
    "    joingame = 2\n",
    "    p1waiting = 3\n",
    "    p12vs = 4\n",
    "    infoarea = 5"
   ]
  },
  {
   "cell_type": "code",
   "execution_count": null,
   "id": "cardiac-contrary",
   "metadata": {},
   "outputs": [],
   "source": [
    "MAIN_AREA.main.value"
   ]
  },
  {
   "cell_type": "code",
   "execution_count": null,
   "id": "artificial-fairy",
   "metadata": {},
   "outputs": [],
   "source": [
    "from dataclasses import dataclass, field\n",
    "from enum import Enum"
   ]
  },
  {
   "cell_type": "code",
   "execution_count": null,
   "id": "taken-crest",
   "metadata": {},
   "outputs": [],
   "source": [
    "@dataclass\n",
    "class A:\n",
    "\n",
    "    a: str\n",
    "    b: int = 2\n",
    "    c: str = '22222'\n",
    "\n",
    "#     def __new__(cls, *args, **kwargs):\n",
    "#         obj = object.__new__(cls)\n",
    "#         print(obj.__dict__)\n",
    "#         print(cls.__dict__)\n",
    "#         return obj\n",
    "#     def __post_init__(self):\n",
    "#         print(self.__dict__)"
   ]
  },
  {
   "cell_type": "code",
   "execution_count": null,
   "id": "absent-modification",
   "metadata": {},
   "outputs": [],
   "source": [
    "AA = A()"
   ]
  },
  {
   "cell_type": "code",
   "execution_count": null,
   "id": "pregnant-silver",
   "metadata": {},
   "outputs": [],
   "source": [
    "class B:\n",
    "    # value by name\n",
    "    aavvvvv: str\n",
    "    # value by assign\n",
    "    b: int = 2\n",
    "    c: str = '22222'\n",
    "    d: str\n",
    "\n",
    "    def __new__(cls):\n",
    "        obj = object.__new__(cls)\n",
    "        for k in cls.__annotations__:\n",
    "            v = cls.__dict__.get(k, k)\n",
    "            setattr(obj, k, v)\n",
    "        return obj"
   ]
  },
  {
   "cell_type": "code",
   "execution_count": null,
   "id": "banned-organic",
   "metadata": {},
   "outputs": [],
   "source": [
    "bb = B()"
   ]
  },
  {
   "cell_type": "code",
   "execution_count": null,
   "id": "split-exposure",
   "metadata": {},
   "outputs": [],
   "source": [
    "bb.__dict__"
   ]
  },
  {
   "cell_type": "code",
   "execution_count": null,
   "id": "german-legend",
   "metadata": {},
   "outputs": [],
   "source": [
    "import json\n",
    "json.dumps(bb.__dict__)"
   ]
  },
  {
   "cell_type": "code",
   "execution_count": null,
   "id": "digital-begin",
   "metadata": {},
   "outputs": [],
   "source": [
    "B.getattr('a')"
   ]
  },
  {
   "cell_type": "code",
   "execution_count": null,
   "id": "lonely-position",
   "metadata": {},
   "outputs": [],
   "source": [
    "from abc import ABC, ABCMeta, abstractmethod\n",
    "class VALIDATE(ABCMeta):\n",
    "    def __new__(cls, name, bases, class_dict):\n",
    "        for k in class_dict.get('__annotations__'):\n",
    "            if k not in class_dict:\n",
    "                class_dict[k] = k\n",
    "        newcls = super().__new__(cls, name, bases, class_dict)\n",
    "        return newcls"
   ]
  },
  {
   "cell_type": "code",
   "execution_count": null,
   "id": "important-blind",
   "metadata": {},
   "outputs": [],
   "source": [
    "class A(metaclass=VALIDATE):\n",
    "    a = 1\n",
    "    b: int = 2\n",
    "    c: str"
   ]
  },
  {
   "cell_type": "code",
   "execution_count": 36,
   "id": "demanding-corrections",
   "metadata": {},
   "outputs": [],
   "source": [
    "class CONST_BASE:\n",
    "    '''\n",
    "        class const(CONST_BASE):\n",
    "            a:str # 沒有assign的一定要 type hint\n",
    "            b = 1\n",
    "        # 用法\n",
    "        const.a == 'a' # 沒有assign的就直接用屬性名稱為value\n",
    "        const.jsonstr == '{\"b\": 1, \"a\": \"a\"}'\n",
    "    '''\n",
    "    jsonstr = ''\n",
    "\n",
    "    def __init_subclass__(cls):\n",
    "        print(1234)\n",
    "#         # 類別變數沒有assign的就直接用屬性名稱為value\n",
    "#         for k in cls.__annotations__:\n",
    "#             if k not in cls.__dict__:\n",
    "#                 setattr(cls, k, k)\n",
    "#         # 將非內建的類別屬性key:value輸出json\n",
    "#         cls_dict = {k: v for k, v in cls.__dict__.items() if k[:2] != '__'}\n",
    "#         cls.jsonstr = json.dumps(cls_dict)"
   ]
  },
  {
   "cell_type": "code",
   "execution_count": 34,
   "id": "native-devon",
   "metadata": {},
   "outputs": [],
   "source": [
    "class const(CONST_BASE):\n",
    "    a: str\n",
    "    b = 1\n",
    "\n",
    "    def __init_subclass__(cls):\n",
    "        print(1234)"
   ]
  },
  {
   "cell_type": "code",
   "execution_count": 35,
   "id": "missing-pottery",
   "metadata": {},
   "outputs": [
    {
     "data": {
      "text/plain": [
       "__main__.const"
      ]
     },
     "execution_count": 35,
     "metadata": {},
     "output_type": "execute_result"
    }
   ],
   "source": [
    "const"
   ]
  },
  {
   "cell_type": "code",
   "execution_count": 31,
   "id": "rational-closure",
   "metadata": {},
   "outputs": [
    {
     "data": {
      "text/plain": [
       "{'a': str}"
      ]
     },
     "execution_count": 31,
     "metadata": {},
     "output_type": "execute_result"
    }
   ],
   "source": [
    "const.__annotations__"
   ]
  },
  {
   "cell_type": "code",
   "execution_count": 41,
   "id": "developed-lafayette",
   "metadata": {},
   "outputs": [
    {
     "data": {
      "text/plain": [
       "'233'"
      ]
     },
     "execution_count": 41,
     "metadata": {},
     "output_type": "execute_result"
    }
   ],
   "source": [
    "('2'+'333')[:3]"
   ]
  },
  {
   "cell_type": "code",
   "execution_count": 43,
   "id": "distant-rugby",
   "metadata": {},
   "outputs": [
    {
     "data": {
      "text/plain": [
       "{2: 3}"
      ]
     },
     "execution_count": 43,
     "metadata": {},
     "output_type": "execute_result"
    }
   ],
   "source": [
    "{2: 2} | {2: 3}"
   ]
  },
  {
   "cell_type": "code",
   "execution_count": 44,
   "id": "organized-circle",
   "metadata": {},
   "outputs": [
    {
     "data": {
      "text/plain": [
       "'<span class=\"guess\" style=\"display:block\">1=>2</span>'"
      ]
     },
     "execution_count": 44,
     "metadata": {},
     "output_type": "execute_result"
    }
   ],
   "source": [
    "'<span class=\"guess\" style=\"display:block\">{}=>{}</span>'.format(1, 2)"
   ]
  },
  {
   "cell_type": "code",
   "execution_count": 59,
   "id": "discrete-divide",
   "metadata": {},
   "outputs": [],
   "source": [
    "a = '<span class=\"guess\" style=\"display: block;\">begin</span>'"
   ]
  },
  {
   "cell_type": "code",
   "execution_count": 60,
   "id": "demographic-start",
   "metadata": {},
   "outputs": [
    {
     "data": {
      "text/plain": [
       "'<span class=\"guess\" style=\"display: block;\">begin</span>'"
      ]
     },
     "execution_count": 60,
     "metadata": {},
     "output_type": "execute_result"
    }
   ],
   "source": [
    "a"
   ]
  },
  {
   "cell_type": "code",
   "execution_count": 68,
   "id": "italian-communication",
   "metadata": {},
   "outputs": [
    {
     "data": {
      "text/plain": [
       "'\"<span class=\\\\\"guess\\\\\" style=\\\\\"display: block;\\\\\">begin</span>\"'"
      ]
     },
     "execution_count": 68,
     "metadata": {},
     "output_type": "execute_result"
    }
   ],
   "source": [
    "json.dumps(a)"
   ]
  },
  {
   "cell_type": "code",
   "execution_count": 62,
   "id": "efficient-intermediate",
   "metadata": {},
   "outputs": [],
   "source": [
    "b = '<span class=\\\\\"guess\\\\\" style=\\\\\"display: block;\\\\\">begin</span>'"
   ]
  },
  {
   "cell_type": "code",
   "execution_count": 67,
   "id": "laughing-annotation",
   "metadata": {},
   "outputs": [
    {
     "data": {
      "text/plain": [
       "'22\"2'"
      ]
     },
     "execution_count": 67,
     "metadata": {},
     "output_type": "execute_result"
    }
   ],
   "source": [
    "'\"22\"2\"'.strip('\"')"
   ]
  },
  {
   "cell_type": "code",
   "execution_count": 69,
   "id": "respiratory-dutch",
   "metadata": {},
   "outputs": [
    {
     "data": {
      "text/plain": [
       "'<span class=\"guess\" style=\"display:block\">begin</span>'"
      ]
     },
     "execution_count": 69,
     "metadata": {},
     "output_type": "execute_result"
    }
   ],
   "source": [
    "a = '<span class=\"guess\" style=\"display:block\">begin</span>'\n",
    "a"
   ]
  },
  {
   "cell_type": "code",
   "execution_count": 71,
   "id": "laughing-settlement",
   "metadata": {},
   "outputs": [
    {
     "data": {
      "text/plain": [
       "'<span class=\"guess\" style=\"display:block\">1->2</span>'"
      ]
     },
     "execution_count": 71,
     "metadata": {},
     "output_type": "execute_result"
    }
   ],
   "source": [
    "a.replace('begin', '{}->{}').format(1, 2)"
   ]
  },
  {
   "cell_type": "code",
   "execution_count": 80,
   "id": "overall-davis",
   "metadata": {},
   "outputs": [
    {
     "data": {
      "text/plain": [
       "'^[0-9]{4}$'"
      ]
     },
     "execution_count": 80,
     "metadata": {},
     "output_type": "execute_result"
    }
   ],
   "source": [
    "a = 4\n",
    "f'^[0-9]{{{a}}}$'"
   ]
  },
  {
   "cell_type": "code",
   "execution_count": 81,
   "id": "circular-heather",
   "metadata": {},
   "outputs": [],
   "source": [
    "class A:\n",
    "    a = 1\n",
    "    b = a+3"
   ]
  },
  {
   "cell_type": "code",
   "execution_count": 83,
   "id": "worst-quick",
   "metadata": {},
   "outputs": [
    {
     "data": {
      "text/plain": [
       "4"
      ]
     },
     "execution_count": 83,
     "metadata": {},
     "output_type": "execute_result"
    }
   ],
   "source": [
    "A.b"
   ]
  },
  {
   "cell_type": "code",
   "execution_count": 84,
   "id": "arbitrary-cleaners",
   "metadata": {},
   "outputs": [],
   "source": [
    "aiguess_all = set(range(10))"
   ]
  },
  {
   "cell_type": "code",
   "execution_count": 85,
   "id": "united-static",
   "metadata": {},
   "outputs": [
    {
     "data": {
      "text/plain": [
       "{0, 1, 2, 3, 4, 5, 6, 7, 8, 9}"
      ]
     },
     "execution_count": 85,
     "metadata": {},
     "output_type": "execute_result"
    }
   ],
   "source": [
    "aiguess_all"
   ]
  },
  {
   "cell_type": "code",
   "execution_count": 93,
   "id": "frozen-james",
   "metadata": {},
   "outputs": [],
   "source": [
    "import re\n",
    "a = '''\n",
    "<span class=\"guess\" style=\"display:block\">1234➜2A0B</span>'\n",
    "<span class=\"guess\" style=\"display:block\">1234➜1A2B</span>'\n",
    "<span class=\"guess\" style=\"display:block\">begin</span>'\n",
    "'''"
   ]
  },
  {
   "cell_type": "code",
   "execution_count": 98,
   "id": "laughing-jacksonville",
   "metadata": {},
   "outputs": [
    {
     "ename": "IndentationError",
     "evalue": "expected an indented block (395486618.py, line 8)",
     "output_type": "error",
     "traceback": [
      "\u001b[0;36m  File \u001b[0;32m\"/tmp/ipykernel_8252/395486618.py\"\u001b[0;36m, line \u001b[0;32m8\u001b[0m\n\u001b[0;31m    \u001b[0m\n\u001b[0m    ^\u001b[0m\n\u001b[0;31mIndentationError\u001b[0m\u001b[0;31m:\u001b[0m expected an indented block\n"
     ]
    }
   ],
   "source": [
    "exclude = set()\n",
    "include = set()\n",
    "for guess, A, B in re.findall('([0-9]{4})➜(.)A(.)B', a):\n",
    "    guess = set(int(i) for i in guess)\n",
    "    A = int(A)\n",
    "    B = int(B)\n",
    "    if A+B == 0:\n",
    "        exclude |= guess\n",
    "        continue\n",
    "    if A+B == 4:"
   ]
  },
  {
   "cell_type": "code",
   "execution_count": 96,
   "id": "touched-coupon",
   "metadata": {},
   "outputs": [],
   "source": [
    "guess = set(int(i) for i in '1234')"
   ]
  },
  {
   "cell_type": "code",
   "execution_count": 100,
   "id": "sticky-circumstances",
   "metadata": {},
   "outputs": [],
   "source": [
    "guess |= {34, 5}"
   ]
  },
  {
   "cell_type": "code",
   "execution_count": 113,
   "id": "ignored-document",
   "metadata": {},
   "outputs": [
    {
     "data": {
      "text/plain": [
       "{1, 2, 3, 4, 5, 34}"
      ]
     },
     "execution_count": 113,
     "metadata": {},
     "output_type": "execute_result"
    }
   ],
   "source": [
    "guess"
   ]
  },
  {
   "cell_type": "code",
   "execution_count": 112,
   "id": "italian-causing",
   "metadata": {},
   "outputs": [
    {
     "ename": "TypeError",
     "evalue": "unsupported operand type(s) for |: 'set' and 'list'",
     "output_type": "error",
     "traceback": [
      "\u001b[0;31m---------------------------------------------------------------------------\u001b[0m",
      "\u001b[0;31mTypeError\u001b[0m                                 Traceback (most recent call last)",
      "\u001b[0;32m/tmp/ipykernel_8252/3673065885.py\u001b[0m in \u001b[0;36m<module>\u001b[0;34m\u001b[0m\n\u001b[1;32m      1\u001b[0m \u001b[0;32mfrom\u001b[0m \u001b[0mrandom\u001b[0m \u001b[0;32mimport\u001b[0m \u001b[0msample\u001b[0m\u001b[0;34m\u001b[0m\u001b[0;34m\u001b[0m\u001b[0m\n\u001b[0;32m----> 2\u001b[0;31m \u001b[0mguess\u001b[0m \u001b[0;34m|\u001b[0m \u001b[0msample\u001b[0m\u001b[0;34m(\u001b[0m\u001b[0mlist\u001b[0m\u001b[0;34m(\u001b[0m\u001b[0;34m{\u001b[0m\u001b[0;36m2\u001b[0m\u001b[0;34m,\u001b[0m \u001b[0;36m3\u001b[0m\u001b[0;34m,\u001b[0m \u001b[0;36m4\u001b[0m\u001b[0;34m,\u001b[0m \u001b[0;36m5\u001b[0m\u001b[0;34m}\u001b[0m\u001b[0;34m)\u001b[0m\u001b[0;34m,\u001b[0m \u001b[0;36m3\u001b[0m\u001b[0;34m)\u001b[0m\u001b[0;34m\u001b[0m\u001b[0;34m\u001b[0m\u001b[0m\n\u001b[0m\u001b[1;32m      3\u001b[0m \u001b[0mguess\u001b[0m\u001b[0;34m\u001b[0m\u001b[0;34m\u001b[0m\u001b[0m\n",
      "\u001b[0;31mTypeError\u001b[0m: unsupported operand type(s) for |: 'set' and 'list'"
     ]
    }
   ],
   "source": [
    "from random import sample\n",
    "guess | sample(list({2, 3, 4, 5}), 3)\n",
    "guess"
   ]
  },
  {
   "cell_type": "code",
   "execution_count": 114,
   "id": "emerging-request",
   "metadata": {},
   "outputs": [
    {
     "data": {
      "text/plain": [
       "6"
      ]
     },
     "execution_count": 114,
     "metadata": {},
     "output_type": "execute_result"
    }
   ],
   "source": [
    "len(guess)"
   ]
  },
  {
   "cell_type": "code",
   "execution_count": 184,
   "id": "living-edmonton",
   "metadata": {},
   "outputs": [
    {
     "data": {
      "text/plain": [
       "True"
      ]
     },
     "execution_count": 184,
     "metadata": {},
     "output_type": "execute_result"
    }
   ],
   "source": [
    "bool(-1)"
   ]
  },
  {
   "cell_type": "code",
   "execution_count": 185,
   "id": "color-advertiser",
   "metadata": {},
   "outputs": [
    {
     "name": "stdout",
     "output_type": "stream",
     "text": [
      "0 3\n",
      "1 4\n",
      "2 5\n"
     ]
    }
   ],
   "source": [
    "for a, b in enumerate([3, 4, 5]):\n",
    "    print(a, b)"
   ]
  },
  {
   "cell_type": "code",
   "execution_count": 189,
   "id": "radical-nation",
   "metadata": {},
   "outputs": [
    {
     "data": {
      "text/plain": [
       "('12', '34')"
      ]
     },
     "execution_count": 189,
     "metadata": {},
     "output_type": "execute_result"
    }
   ],
   "source": [
    "idx = 2\n",
    "'1234'[0:idx], '1234'[idx:]"
   ]
  },
  {
   "cell_type": "code",
   "execution_count": null,
   "id": "binary-nowhere",
   "metadata": {},
   "outputs": [],
   "source": []
  }
 ],
 "metadata": {
  "kernelspec": {
   "display_name": "Python 3 (ipykernel)",
   "language": "python",
   "name": "python3"
  },
  "language_info": {
   "codemirror_mode": {
    "name": "ipython",
    "version": 3
   },
   "file_extension": ".py",
   "mimetype": "text/x-python",
   "name": "python",
   "nbconvert_exporter": "python",
   "pygments_lexer": "ipython3",
   "version": "3.11.3"
  }
 },
 "nbformat": 4,
 "nbformat_minor": 5
}
