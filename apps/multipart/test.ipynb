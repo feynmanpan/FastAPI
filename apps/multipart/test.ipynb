{
 "cells": [
  {
   "cell_type": "code",
   "execution_count": 91,
   "id": "aggregate-constraint",
   "metadata": {},
   "outputs": [],
   "source": [
    "from fastapi.responses import HTMLResponse, ORJSONResponse, PlainTextResponse, Response, FileResponse\n",
    "from requests_toolbelt import MultipartEncoder"
   ]
  },
  {
   "cell_type": "markdown",
   "id": "killing-consumption",
   "metadata": {},
   "source": [
    "https://stackoverflow.com/questions/47067312/multipart-http-response\n",
    "\n",
    "https://stackoverflow.com/questions/26643354/can-i-serve-a-multipart-http-response-in-flask"
   ]
  },
  {
   "cell_type": "code",
   "execution_count": 98,
   "id": "accredited-humor",
   "metadata": {},
   "outputs": [
    {
     "data": {
      "text/plain": [
       "'aa'"
      ]
     },
     "execution_count": 98,
     "metadata": {},
     "output_type": "execute_result"
    }
   ],
   "source": [
    "'AA'.lower()"
   ]
  },
  {
   "cell_type": "code",
   "execution_count": 56,
   "id": "studied-citation",
   "metadata": {},
   "outputs": [],
   "source": [
    "jpg = 'test2.jpg'\n",
    "rs_f = FileResponse(jpg)"
   ]
  },
  {
   "cell_type": "code",
   "execution_count": 99,
   "id": "satisfactory-emperor",
   "metadata": {},
   "outputs": [
    {
     "data": {
      "text/plain": [
       "'None'"
      ]
     },
     "execution_count": 99,
     "metadata": {},
     "output_type": "execute_result"
    }
   ],
   "source": [
    "str(None)"
   ]
  },
  {
   "cell_type": "code",
   "execution_count": 94,
   "id": "spiritual-husband",
   "metadata": {},
   "outputs": [
    {
     "data": {
      "text/plain": [
       "b'{\"1\":2,\"3\":4}'"
      ]
     },
     "execution_count": 94,
     "metadata": {},
     "output_type": "execute_result"
    }
   ],
   "source": [
    "rs_j.body"
   ]
  },
  {
   "cell_type": "code",
   "execution_count": 76,
   "id": "divided-digest",
   "metadata": {},
   "outputs": [],
   "source": [
    "import binascii\n",
    "import os\n",
    "def encode_multipart_formdata(fields):\n",
    "    boundary = binascii.hexlify(os.urandom(16)).decode('ascii')\n",
    "\n",
    "    body = (\n",
    "        \"\".join(f\"--{boundary}\\r\\n\"\n",
    "                f\"Content-Disposition: form-data; name=\\\"{field}\\\"\\r\\n\"\n",
    "                f\"\\r\\n\"\n",
    "                f\"{value}\\r\\n\"\n",
    "                for field, value in fields.items()) +\n",
    "        f\"--{boundary}--\\r\\n\"\n",
    "    )\n",
    "\n",
    "    content_type = f\"multipart/form-data; boundary={boundary}\"\n",
    "\n",
    "    return body, content_type"
   ]
  },
  {
   "cell_type": "code",
   "execution_count": 85,
   "id": "demographic-petroleum",
   "metadata": {},
   "outputs": [],
   "source": [
    "b, c = encode_multipart_formdata({\"foo\": \"bar\", \"name\": \"jd\"})"
   ]
  },
  {
   "cell_type": "code",
   "execution_count": 89,
   "id": "spoken-accreditation",
   "metadata": {},
   "outputs": [
    {
     "data": {
      "text/plain": [
       "'--b0e1a62eba9747c024295b807ac67e4e\\r\\nContent-Disposition: form-data; name=\"foo\"\\r\\n\\r\\nbar\\r\\n--b0e1a62eba9747c024295b807ac67e4e\\r\\nContent-Disposition: form-data; name=\"name\"\\r\\n\\r\\njd\\r\\n--b0e1a62eba9747c024295b807ac67e4e--\\r\\n'"
      ]
     },
     "execution_count": 89,
     "metadata": {},
     "output_type": "execute_result"
    }
   ],
   "source": [
    "b"
   ]
  },
  {
   "cell_type": "code",
   "execution_count": 84,
   "id": "consecutive-going",
   "metadata": {},
   "outputs": [
    {
     "data": {
      "text/plain": [
       "'\\r\\n'"
      ]
     },
     "execution_count": 84,
     "metadata": {},
     "output_type": "execute_result"
    }
   ],
   "source": [
    "rn"
   ]
  },
  {
   "cell_type": "code",
   "execution_count": 40,
   "id": "thick-pharmaceutical",
   "metadata": {},
   "outputs": [
    {
     "data": {
      "text/plain": [
       "['__call__',\n",
       " '__class__',\n",
       " '__delattr__',\n",
       " '__dict__',\n",
       " '__dir__',\n",
       " '__doc__',\n",
       " '__eq__',\n",
       " '__format__',\n",
       " '__ge__',\n",
       " '__getattribute__',\n",
       " '__gt__',\n",
       " '__hash__',\n",
       " '__init__',\n",
       " '__init_subclass__',\n",
       " '__le__',\n",
       " '__lt__',\n",
       " '__module__',\n",
       " '__ne__',\n",
       " '__new__',\n",
       " '__reduce__',\n",
       " '__reduce_ex__',\n",
       " '__repr__',\n",
       " '__setattr__',\n",
       " '__sizeof__',\n",
       " '__str__',\n",
       " '__subclasshook__',\n",
       " '__weakref__',\n",
       " 'background',\n",
       " 'charset',\n",
       " 'chunk_size',\n",
       " 'delete_cookie',\n",
       " 'filename',\n",
       " 'headers',\n",
       " 'init_headers',\n",
       " 'media_type',\n",
       " 'path',\n",
       " 'raw_headers',\n",
       " 'render',\n",
       " 'send_header_only',\n",
       " 'set_cookie',\n",
       " 'set_stat_headers',\n",
       " 'stat_result',\n",
       " 'status_code']"
      ]
     },
     "execution_count": 40,
     "metadata": {},
     "output_type": "execute_result"
    }
   ],
   "source": [
    "dir(rs_f)"
   ]
  },
  {
   "cell_type": "code",
   "execution_count": 41,
   "id": "charitable-australian",
   "metadata": {},
   "outputs": [
    {
     "data": {
      "text/plain": [
       "'image/jpeg'"
      ]
     },
     "execution_count": 41,
     "metadata": {},
     "output_type": "execute_result"
    }
   ],
   "source": [
    "rs_f.media_type"
   ]
  },
  {
   "cell_type": "code",
   "execution_count": null,
   "id": "twenty-hands",
   "metadata": {},
   "outputs": [],
   "source": []
  }
 ],
 "metadata": {
  "kernelspec": {
   "display_name": "Python 3 (ipykernel)",
   "language": "python",
   "name": "python3"
  },
  "language_info": {
   "codemirror_mode": {
    "name": "ipython",
    "version": 3
   },
   "file_extension": ".py",
   "mimetype": "text/x-python",
   "name": "python",
   "nbconvert_exporter": "python",
   "pygments_lexer": "ipython3",
   "version": "3.9.2"
  }
 },
 "nbformat": 4,
 "nbformat_minor": 5
}
