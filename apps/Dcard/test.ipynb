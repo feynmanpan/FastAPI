{
 "cells": [
  {
   "cell_type": "code",
   "execution_count": null,
   "source": [
    "import aiohttp"
   ],
   "outputs": [],
   "metadata": {}
  },
  {
   "cell_type": "code",
   "execution_count": null,
   "source": [
    "cacert = True\r\n",
    "timeout = 20\r\n",
    "connector = aiohttp.TCPConnector(ssl=cacert, limit=100)\r\n",
    "TO = aiohttp.ClientTimeout(total=timeout)\r\n",
    "ss = aiohttp.ClientSession(connector=connector, timeout=TO)\r\n",
    "# \r\n",
    "headers = {\r\n",
    "    'User-Agent': 'Mozilla/5.0 (Windows NT 10.0; Win64; x64) AppleWebKit/537.36 (KHTML, like Gecko) Chrome/84.0.4147.135 Safari/537.36',\r\n",
    "}"
   ],
   "outputs": [],
   "metadata": {}
  },
  {
   "cell_type": "code",
   "execution_count": null,
   "source": [
    "limit = 100\r\n",
    "url = f\"https://www.dcard.tw/service/api/v2/posts?popular=true&limit={limit}\""
   ],
   "outputs": [],
   "metadata": {}
  },
  {
   "cell_type": "code",
   "execution_count": null,
   "source": [
    "async def getDcard():\r\n",
    "    async with ss.get(url, headers=headers, proxy=None) as r:\r\n",
    "        status = r.status\r\n",
    "        # rtext = await r.text(encoding='utf8')\r\n",
    "        result = await r.json(encoding='utf8')\r\n",
    "        return result"
   ],
   "outputs": [],
   "metadata": {}
  },
  {
   "cell_type": "code",
   "execution_count": null,
   "source": [
    "result = await getDcard()"
   ],
   "outputs": [],
   "metadata": {}
  },
  {
   "cell_type": "code",
   "execution_count": null,
   "source": [
    "result[0]"
   ],
   "outputs": [],
   "metadata": {}
  },
  {
   "cell_type": "code",
   "execution_count": 1,
   "source": [
    "import dcard"
   ],
   "outputs": [],
   "metadata": {}
  },
  {
   "cell_type": "code",
   "execution_count": null,
   "source": [
    "# url = \"https://www.dcard.tw/service/api/v2/posts?popular=true&limit=100&after=236971830\"\r\n",
    "# url=''\r\n",
    "result = await dcard.Dcard().get_posts()"
   ],
   "outputs": [],
   "metadata": {}
  },
  {
   "cell_type": "code",
   "execution_count": null,
   "source": [
    "result"
   ],
   "outputs": [],
   "metadata": {}
  },
  {
   "cell_type": "code",
   "execution_count": null,
   "source": [],
   "outputs": [],
   "metadata": {}
  },
  {
   "cell_type": "code",
   "execution_count": null,
   "source": [
    "api_url.format(\"\")"
   ],
   "outputs": [],
   "metadata": {}
  },
  {
   "cell_type": "code",
   "execution_count": null,
   "source": [
    "'11111'*0"
   ],
   "outputs": [],
   "metadata": {}
  },
  {
   "cell_type": "code",
   "execution_count": null,
   "source": [],
   "outputs": [],
   "metadata": {}
  }
 ],
 "metadata": {
  "orig_nbformat": 4,
  "language_info": {
   "name": "python",
   "version": "3.9.2",
   "mimetype": "text/x-python",
   "codemirror_mode": {
    "name": "ipython",
    "version": 3
   },
   "pygments_lexer": "ipython3",
   "nbconvert_exporter": "python",
   "file_extension": ".py"
  },
  "kernelspec": {
   "name": "python3",
   "display_name": "Python 3.9.2 64-bit ('env392': venv)"
  },
  "interpreter": {
   "hash": "87f32b013522c4ca2f2999d6b0c1f26ea599f843cc444fa19a3ee278b2f76974"
  }
 },
 "nbformat": 4,
 "nbformat_minor": 2
}