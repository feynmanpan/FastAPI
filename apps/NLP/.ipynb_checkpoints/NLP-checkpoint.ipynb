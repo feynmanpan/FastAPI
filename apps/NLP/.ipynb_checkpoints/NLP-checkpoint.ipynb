{
 "cells": [
  {
   "cell_type": "code",
   "execution_count": null,
   "id": "norman-termination",
   "metadata": {},
   "outputs": [],
   "source": [
    "import sys\n",
    "import os\n",
    "# sys.path.append(top) 把392頂層目錄加到最前面 '/home/pan/django_projects/fast_api_392'\n",
    "top = (os.path.dirname(os.path.dirname(os.getcwd())))\n",
    "sys.path.insert(0, top)\n",
    "# sys.path\n",
    "#\n",
    "top"
   ]
  },
  {
   "cell_type": "code",
   "execution_count": null,
   "id": "exceptional-devon",
   "metadata": {},
   "outputs": [],
   "source": [
    "from google.cloud import language_v1\n",
    "from google.cloud.language_v1 import Document\n",
    "from google.cloud.language_v1 import types"
   ]
  },
  {
   "cell_type": "code",
   "execution_count": null,
   "id": "serious-breeding",
   "metadata": {},
   "outputs": [],
   "source": [
    "from apps.NLP.views import emotion, emotion_handle, postdata"
   ]
  },
  {
   "cell_type": "code",
   "execution_count": null,
   "id": "caring-techno",
   "metadata": {},
   "outputs": [],
   "source": [
    "text = \"\"\"\n",
    "President Joe Biden said Ida would be \"life-threatening\", with immense devastation likely beyond the coasts.\n",
    "\"\"\"\n",
    "data = postdata(text=text)\n",
    "result = emotion_handle(data)"
   ]
  },
  {
   "cell_type": "code",
   "execution_count": null,
   "id": "continental-construction",
   "metadata": {},
   "outputs": [],
   "source": [
    "result.__dict__"
   ]
  },
  {
   "cell_type": "code",
   "execution_count": 1,
   "id": "revolutionary-alloy",
   "metadata": {},
   "outputs": [
    {
     "name": "stderr",
     "output_type": "stream",
     "text": [
      "/home/pan/anaconda3/envs/fast_env/lib/python3.9/site-packages/torch/cuda/__init__.py:52: UserWarning: CUDA initialization: Found no NVIDIA driver on your system. Please check that you have an NVIDIA GPU and installed a driver from http://www.nvidia.com/Download/index.aspx (Triggered internally at  /pytorch/c10/cuda/CUDAFunctions.cpp:100.)\n",
      "  return torch._C._cuda_getDeviceCount() > 0\n"
     ]
    },
    {
     "data": {
      "text/plain": [
       "[('legal battle', 0.5164),\n",
       " ('lengthy legal', 0.4917),\n",
       " ('battle', 0.3725),\n",
       " ('congress lead', 0.3019),\n",
       " ('lead lengthy', 0.275)]"
      ]
     },
     "execution_count": 1,
     "metadata": {},
     "output_type": "execute_result"
    }
   ],
   "source": [
    "from keybert import KeyBERT\n",
    "\n",
    "model = KeyBERT('distilbert-base-nli-mean-tokens')\n",
    "\n",
    "doc = \"\"\"\n",
    "       It is unclear what means the committee will use to compel \n",
    "       the telecommunications companies to cooperate with their request. \n",
    "       The committee does have subpoena power, but requesting the information -- \n",
    "       especially from members of Congress -- could lead to a lengthy legal battle.\n",
    "      \"\"\"\n",
    "model.extract_keywords(doc, keyphrase_ngram_range=(1, 2))"
   ]
  },
  {
   "cell_type": "code",
   "execution_count": 1,
   "id": "unique-flour",
   "metadata": {},
   "outputs": [
    {
     "name": "stderr",
     "output_type": "stream",
     "text": [
      "/home/pan/anaconda3/envs/fast_env/lib/python3.9/site-packages/torch/cuda/__init__.py:52: UserWarning: CUDA initialization: Found no NVIDIA driver on your system. Please check that you have an NVIDIA GPU and installed a driver from http://www.nvidia.com/Download/index.aspx (Triggered internally at  /pytorch/c10/cuda/CUDAFunctions.cpp:100.)\n",
      "  return torch._C._cuda_getDeviceCount() > 0\n",
      "Some weights of BertModel were not initialized from the model checkpoint at ckiplab/bert-base-chinese and are newly initialized: ['bert.pooler.dense.weight', 'bert.pooler.dense.bias']\n",
      "You should probably TRAIN this model on a down-stream task to be able to use it for predictions and inference.\n"
     ]
    }
   ],
   "source": [
    "from KeyExtractor.utils import tokenization as tk\n",
    "from KeyExtractor.core import KeyExtractor\n",
    "#\n",
    "tokenizer = tk.TokenizerFactory(name=\"ckip-transformers-albert-tiny\")\n",
    "ke = KeyExtractor(embedding_method_or_model=\"ckiplab/bert-base-chinese\")"
   ]
  },
  {
   "cell_type": "code",
   "execution_count": 2,
   "id": "fatal-engineer",
   "metadata": {},
   "outputs": [],
   "source": [
    "text1 = \"詐欺犯吳朱傳甫獲釋又和同夥林志成假冒檢警人員，向新營市黃姓婦人詐財一百八十萬元，事後黃婦驚覺上當報警處理，匯寄的帳戶被列警示帳戶，凍結資金往返；四日兩嫌再冒名要黃婦領五十萬現金交付，被埋伏的警員當場揪住。\"\n",
    "text2 = \"\"\"\n",
    "    監督學習是機器學習任務，它學習基於範例輸入-範例輸出組合，將輸入映射到輸出的函數。\n",
    "    [1]它從標記的訓練數據（由一組訓練範例組成）中推斷出函數。\n",
    "    [2]在監督學習中，每個範例都是一對，由輸入對象（通常是矢量）和期望的輸出值（也稱為監督信號）組成。\n",
    "    監督學習演算法分析訓練數據並產生一個推斷函數，該函數可用於映射新範例。\n",
    "    最佳方案將使演算法能夠正確確定未見實例的類標籤。\n",
    "    這就要求學習算法以“合理”的方式將訓練數據推廣到看不見的情況（見歸納偏差）。\n",
    "\"\"\"\n",
    "\n",
    "text_list = [text1, text2]"
   ]
  },
  {
   "cell_type": "code",
   "execution_count": 5,
   "id": "muslim-consistency",
   "metadata": {},
   "outputs": [
    {
     "name": "stderr",
     "output_type": "stream",
     "text": [
      "Tokenization: 100%|██████████| 2/2 [00:00<00:00, 1348.43it/s]\n",
      "Inference: 100%|██████████| 1/1 [00:00<00:00,  6.50it/s]\n"
     ]
    },
    {
     "name": "stdout",
     "output_type": "stream",
     "text": [
      "\n",
      "[ID]: 1\n",
      "[KEYWORD]: ['吳朱傳', '獲釋']\n",
      "[SCORE]: 0.7491\n",
      "[EMBEDDINGS]: torch.Size([768])\n",
      "\n",
      "[ID]: 11\n",
      "[KEYWORD]: ['詐財', '一百八十萬']\n",
      "[SCORE]: 0.748\n",
      "[EMBEDDINGS]: torch.Size([768])\n",
      "\n",
      "[ID]: 2\n",
      "[KEYWORD]: ['獲釋', '同夥']\n",
      "[SCORE]: 0.7473\n",
      "[EMBEDDINGS]: torch.Size([768])\n",
      "\n",
      "[ID]: 35\n",
      "[KEYWORD]: ['現金', '交付']\n",
      "[SCORE]: 0.7456\n",
      "[EMBEDDINGS]: torch.Size([768])\n",
      "\n",
      "[ID]: 19\n",
      "[KEYWORD]: ['處理', '匯寄']\n",
      "[SCORE]: 0.7449\n",
      "[EMBEDDINGS]: torch.Size([768])\n",
      "###########################\n",
      "\n",
      "[ID]: 28\n",
      "[KEYWORD]: ['學習', '範例']\n",
      "[SCORE]: 0.8039\n",
      "[EMBEDDINGS]: torch.Size([768])\n",
      "\n",
      "[ID]: 29\n",
      "[KEYWORD]: ['範例', '輸入']\n",
      "[SCORE]: 0.8006\n",
      "[EMBEDDINGS]: torch.Size([768])\n",
      "\n",
      "[ID]: 27\n",
      "[KEYWORD]: ['監督', '學習']\n",
      "[SCORE]: 0.7888\n",
      "[EMBEDDINGS]: torch.Size([768])\n",
      "\n",
      "[ID]: 24\n",
      "[KEYWORD]: ['推斷出', '函數']\n",
      "[SCORE]: 0.7738\n",
      "[EMBEDDINGS]: torch.Size([768])\n",
      "\n",
      "[ID]: 18\n",
      "[KEYWORD]: ['訓練', '數據']\n",
      "[SCORE]: 0.7677\n",
      "[EMBEDDINGS]: torch.Size([768])\n",
      "###########################\n"
     ]
    }
   ],
   "source": [
    "tokenized_text_list = tokenizer.tokenize(text_list)\n",
    "for tokenized_text in tokenized_text_list:\n",
    "    #     print(tokenized_text)\n",
    "    keywords = ke.extract_keywords(\n",
    "        tokenized_text, stopwords=[\"中\", \"對象\"], n_gram=2, top_n=5\n",
    "    )\n",
    "    for key in keywords:\n",
    "        print(key)\n",
    "    print(\"###########################\")"
   ]
  },
  {
   "cell_type": "code",
   "execution_count": 1,
   "id": "novel-drawing",
   "metadata": {},
   "outputs": [
    {
     "data": {
      "text/plain": [
       "3"
      ]
     },
     "execution_count": 1,
     "metadata": {},
     "output_type": "execute_result"
    }
   ],
   "source": [
    "1+2"
   ]
  },
  {
   "cell_type": "code",
   "execution_count": 2,
   "id": "assisted-isaac",
   "metadata": {},
   "outputs": [
    {
     "data": {
      "text/plain": [
       "113"
      ]
     },
     "execution_count": 2,
     "metadata": {},
     "output_type": "execute_result"
    }
   ],
   "source": [
    "111+2"
   ]
  },
  {
   "cell_type": "code",
   "execution_count": null,
   "id": "available-exemption",
   "metadata": {},
   "outputs": [],
   "source": []
  }
 ],
 "metadata": {
  "kernelspec": {
   "display_name": "Python 3 (ipykernel)",
   "language": "python",
   "name": "python3"
  },
  "language_info": {
   "codemirror_mode": {
    "name": "ipython",
    "version": 3
   },
   "file_extension": ".py",
   "mimetype": "text/x-python",
   "name": "python",
   "nbconvert_exporter": "python",
   "pygments_lexer": "ipython3",
   "version": "3.9.2"
  }
 },
 "nbformat": 4,
 "nbformat_minor": 5
}
