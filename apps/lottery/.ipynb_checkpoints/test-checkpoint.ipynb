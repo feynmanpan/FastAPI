{
 "cells": [
  {
   "cell_type": "code",
   "execution_count": 3,
   "id": "complimentary-sugar",
   "metadata": {},
   "outputs": [],
   "source": [
    "import aiohttp\n",
    "import asyncio\n",
    "from collections import namedtuple\n",
    "from pyquery import PyQuery as pq\n",
    "import re\n",
    "##################################################\n",
    "\n",
    "\n",
    "class LOTTERY:\n",
    "    cols = [\n",
    "        'name',\n",
    "        'no', 'ymd', 'area1', 'area1_asc', 'area2'\n",
    "    ]\n",
    "    #\n",
    "    y_start = 103\n",
    "    m_start = 1\n",
    "    #\n",
    "    _names = ['super', 'big', 'today']\n",
    "    names = namedtuple('types', _names)(*_names)\n",
    "    #\n",
    "    url_home = 'https://www.taiwanlottery.com.tw'\n",
    "    urls_history = {\n",
    "        names.super: f\"{url_home}/lotto/superlotto638/history.aspx\",\n",
    "        names.big: f\"{url_home}/lotto/Lotto649/history.aspx\",\n",
    "        names.today: f\"{url_home}/lotto/DailyCash/history.aspx\",\n",
    "    }\n",
    "    #\n",
    "    _ss = dict.fromkeys(_names, None)\n",
    "    headers = {\n",
    "        'User-Agent': 'Mozilla/5.0 (Windows NT 10.0; Win64; x64) AppleWebKit/537.36 (KHTML, like Gecko) Chrome/84.0.4147.135 Safari/537.36',\n",
    "    }\n",
    "    timeout = 30\n",
    "    last_threevars = None\n",
    "    # ___________________________________________________-\n",
    "\n",
    "    def __init__(self, name=names.super):\n",
    "        self.name = name\n",
    "        self.url_history = self.urls_history[name]\n",
    "        self.row = dict.fromkeys(self.cols, None)\n",
    "\n",
    "    @property\n",
    "    def ss(self) -> aiohttp.ClientSession:\n",
    "        '''各name用自己的session'''\n",
    "        if not self._ss.get(self.name):\n",
    "            connector = aiohttp.TCPConnector(ssl=True, limit=100)\n",
    "            TO = aiohttp.ClientTimeout(total=self.timeout)\n",
    "            self._ss[self.name] = aiohttp.ClientSession(connector=connector, timeout=TO)\n",
    "        #\n",
    "        return self._ss[self.name]\n",
    "\n",
    "    def set_threevars(self, rtext: str):\n",
    "        doc = pq(rtext, parser='html')\n",
    "        vs = doc.find(\"#__VIEWSTATE\").val()\n",
    "        vsg = doc.find(\"#__VIEWSTATEGENERATOR\").val()\n",
    "        ev = doc.find(\"#__EVENTVALIDATION\").val()\n",
    "        if vs and vsg and ev:\n",
    "            self.last_threevars = vs, vsg, ev\n",
    "\n",
    "    async def first_get(self):\n",
    "        async with self.ss.get(self.url_history, headers=self.headers, proxy=None) as r:\n",
    "            if (status := r.status) == 200:\n",
    "                rtext = await r.text(encoding='utf8')\n",
    "                if rtext:\n",
    "                    self.set_threevars(rtext)\n",
    "                    return rtext\n",
    "\n",
    "    async def post(self, y=y_start, m=m_start):\n",
    "        while not self.last_threevars:\n",
    "            await self.first_get()\n",
    "            await asyncio.sleep(0.5)\n",
    "        #\n",
    "        payload = {\n",
    "            \"__VIEWSTATE\": self.last_threevars[0],\n",
    "            \"__VIEWSTATEGENERATOR\": self.last_threevars[1],\n",
    "            \"__EVENTVALIDATION\": self.last_threevars[2],\n",
    "            \"forma\": \"請選擇遊戲\",\n",
    "            \"SuperLotto638Control_history1$txtNO\": \"\",\n",
    "            \"SuperLotto638Control_history1$chk\": \"radYM\",\n",
    "            \"SuperLotto638Control_history1$dropYear\": y,\n",
    "            \"SuperLotto638Control_history1$dropMonth\": m,\n",
    "            \"SuperLotto638Control_history1$btnSubmit\": \"查詢\",\n",
    "        }\n",
    "        #\n",
    "        async with self.ss.post(self.url_history, headers=self.headers, proxy=None, data=payload) as r:\n",
    "            if r.status == 200:\n",
    "                rtext = await r.text(encoding='utf8')\n",
    "                if rtext:\n",
    "                    self.set_threevars(rtext)\n",
    "                    return rtext\n",
    "\n",
    "    async def get_ymdata(self, y=y_start, m=m_start):\n",
    "        rtext = await self.post(y=y, m=m)\n",
    "        doc = pq(rtext, parser='html')\n",
    "        #\n",
    "        ym_data = []\n",
    "        for tbcls in ['.table_org.td_hm', '.table_gre.td_hm']:\n",
    "            for t1 in doc.find(tbcls):\n",
    "                trs = pq(t1).find(\"tr\")\n",
    "                tr1 = trs.eq(1)\n",
    "                tr4 = trs.eq(4)\n",
    "                tr5 = trs.eq(5)\n",
    "                #\n",
    "                no = tr1.find(\"span\").eq(0).text()\n",
    "                ymd = tr1.find(\"span\").eq(1).text()\n",
    "                area1 = tr4.find(\"span\").text().replace(\" \", '_')[:-3]\n",
    "                area1_asc = tr5.find(\"span\").text().replace(\" \", '_')[:-3]\n",
    "                area2 = tr4.find(\"span\").eq(-1).text()\n",
    "                #\n",
    "                ym_data.append([no, ymd, area1, area1_asc, area2])\n",
    "        #\n",
    "        return sorted(ym_data, key=lambda x: x[0])"
   ]
  },
  {
   "cell_type": "code",
   "execution_count": 4,
   "id": "comprehensive-fashion",
   "metadata": {},
   "outputs": [],
   "source": [
    "superA = LOTTERY(LOTTERY.names.super)"
   ]
  },
  {
   "cell_type": "code",
   "execution_count": 5,
   "id": "scenic-standard",
   "metadata": {},
   "outputs": [],
   "source": [
    "ymdata = await superA.get_ymdata()"
   ]
  },
  {
   "cell_type": "code",
   "execution_count": 6,
   "id": "descending-conjunction",
   "metadata": {},
   "outputs": [
    {
     "data": {
      "text/plain": [
       "[['103000001', '103/01/02', '27_10_08_37_28_19', '08_10_19_27_28_37', '03'],\n",
       " ['103000002', '103/01/06', '07_18_08_23_31_12', '07_08_12_18_23_31', '02'],\n",
       " ['103000003', '103/01/09', '31_04_23_34_35_22', '04_22_23_31_34_35', '01'],\n",
       " ['103000004', '103/01/13', '04_03_30_24_23_26', '03_04_23_24_26_30', '02'],\n",
       " ['103000005', '103/01/16', '34_38_23_13_14_37', '13_14_23_34_37_38', '07'],\n",
       " ['103000006', '103/01/20', '36_04_23_09_37_21', '04_09_21_23_36_37', '03'],\n",
       " ['103000007', '103/01/23', '31_29_26_32_12_28', '12_26_28_29_31_32', '06'],\n",
       " ['103000008', '103/01/27', '38_36_20_28_26_08', '08_20_26_28_36_38', '08'],\n",
       " ['103000009', '103/01/30', '10_14_16_06_11_30', '06_10_11_14_16_30', '01']]"
      ]
     },
     "execution_count": 6,
     "metadata": {},
     "output_type": "execute_result"
    }
   ],
   "source": [
    "ymdata"
   ]
  },
  {
   "cell_type": "code",
   "execution_count": 7,
   "id": "fuzzy-joining",
   "metadata": {},
   "outputs": [
    {
     "data": {
      "text/plain": [
       "[['103000010', '103/02/03', '28_37_19_24_21_17', '17_19_21_24_28_37', '06'],\n",
       " ['103000011', '103/02/06', '02_08_25_35_29_36', '02_08_25_29_35_36', '02'],\n",
       " ['103000012', '103/02/10', '13_27_20_25_28_33', '13_20_25_27_28_33', '01'],\n",
       " ['103000013', '103/02/13', '16_35_36_20_06_08', '06_08_16_20_35_36', '08'],\n",
       " ['103000014', '103/02/17', '33_14_12_37_17_08', '08_12_14_17_33_37', '05'],\n",
       " ['103000015', '103/02/20', '30_01_10_03_18_13', '01_03_10_13_18_30', '01'],\n",
       " ['103000016', '103/02/24', '29_10_36_27_23_15', '10_15_23_27_29_36', '05'],\n",
       " ['103000017', '103/02/27', '23_26_04_08_20_21', '04_08_20_21_23_26', '05']]"
      ]
     },
     "execution_count": 7,
     "metadata": {},
     "output_type": "execute_result"
    }
   ],
   "source": [
    "ymdata = await superA.get_ymdata(y=103, m=2)\n",
    "ymdata"
   ]
  },
  {
   "cell_type": "code",
   "execution_count": null,
   "id": "scheduled-fitness",
   "metadata": {},
   "outputs": [],
   "source": []
  }
 ],
 "metadata": {
  "kernelspec": {
   "display_name": "Python 3 (ipykernel)",
   "language": "python",
   "name": "python3"
  },
  "language_info": {
   "codemirror_mode": {
    "name": "ipython",
    "version": 3
   },
   "file_extension": ".py",
   "mimetype": "text/x-python",
   "name": "python",
   "nbconvert_exporter": "python",
   "pygments_lexer": "ipython3",
   "version": "3.9.2"
  }
 },
 "nbformat": 4,
 "nbformat_minor": 5
}
